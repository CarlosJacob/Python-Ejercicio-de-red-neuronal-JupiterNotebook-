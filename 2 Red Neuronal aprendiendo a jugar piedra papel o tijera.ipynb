{
 "cells": [
  {
   "cell_type": "markdown",
   "metadata": {},
   "source": [
    "## Código de red neuronal aprendiendo a jugar a piedra papel o tijera.\n",
    "\n",
    "- difunde\n",
    "- coopera\n",
    "- aprende\n",
    "- vuelve\n",
    "\n",
    "-> simpre busca la solución mas sencilla."
   ]
  },
  {
   "cell_type": "code",
   "execution_count": 13,
   "metadata": {},
   "outputs": [],
   "source": [
    "options = [\"piedra\", \"tijeras\", \"papel\"]"
   ]
  },
  {
   "cell_type": "code",
   "execution_count": 16,
   "metadata": {},
   "outputs": [],
   "source": [
    "def search_winner(p1, p2):\n",
    "    if p1 == p2:\n",
    "        result = 0\n",
    "    elif p1 == \"piedra\" and p2 == \"tijeras\":\n",
    "        result = 1\n",
    "    elif p1 == \"piedra\" and p2 == \"papel\":\n",
    "        result = 2\n",
    "    elif p1 == \"tijeras\" and p2 == \"piedra\":\n",
    "        result = 2\n",
    "    elif p1 == \"tijeras\" and p2 == \"papel\":\n",
    "        result = 1\n",
    "    elif p1 == \"papel\" and p2 == \"tijeras\":\n",
    "        result = 2\n",
    "        \n",
    "    return result    "
   ]
  },
  {
   "cell_type": "code",
   "execution_count": 18,
   "metadata": {},
   "outputs": [
    {
     "data": {
      "text/plain": [
       "2"
      ]
     },
     "execution_count": 18,
     "metadata": {},
     "output_type": "execute_result"
    }
   ],
   "source": [
    "search_winner(\"papel\", \"tijeras\")"
   ]
  },
  {
   "cell_type": "code",
   "execution_count": 28,
   "metadata": {},
   "outputs": [
    {
     "name": "stdout",
     "output_type": "stream",
     "text": [
      "['piedra', 'piedra', 0]\n",
      "Player1 piedra Player2: piedra Winner: 0 Validation 0\n",
      "['piedra', 'tijeras', 1]\n",
      "Player1 piedra Player2: tijeras Winner: 1 Validation 1\n",
      "['piedra', 'papel', 2]\n",
      "Player1 piedra Player2: papel Winner: 2 Validation 2\n"
     ]
    }
   ],
   "source": [
    "test = [\n",
    "    [\"piedra\", \"piedra\", 0 ],\n",
    "    [\"piedra\", \"tijeras\", 1],\n",
    "    [\"piedra\", \"papel\", 2]\n",
    "]\n",
    "\n",
    "for partida in test:\n",
    "    print(partida)\n",
    "    print(\"Player1 %s Player2: %s Winner: %s Validation %s\" % (\n",
    "        partida[0], partida[1], search_winner(partida[0], partida[1]), partida[2]\n",
    "    ))"
   ]
  },
  {
   "cell_type": "code",
   "execution_count": 33,
   "metadata": {},
   "outputs": [],
   "source": [
    "from random import choice\n",
    "def get_choice():\n",
    "    return choice(options)"
   ]
  },
  {
   "cell_type": "code",
   "execution_count": 35,
   "metadata": {},
   "outputs": [
    {
     "name": "stdout",
     "output_type": "stream",
     "text": [
      "Player1 tijeras Player2: piedra Winner: 2\n",
      "Player1 tijeras Player2: papel Winner: 1\n",
      "Player1 piedra Player2: papel Winner: 2\n",
      "Player1 tijeras Player2: papel Winner: 1\n",
      "Player1 papel Player2: papel Winner: 0\n",
      "Player1 piedra Player2: piedra Winner: 0\n",
      "Player1 papel Player2: papel Winner: 0\n",
      "Player1 papel Player2: papel Winner: 0\n",
      "Player1 piedra Player2: piedra Winner: 0\n",
      "Player1 papel Player2: papel Winner: 0\n"
     ]
    }
   ],
   "source": [
    "for i in range(10):\n",
    "    player1 = get_choice()\n",
    "    player2 = get_choice()\n",
    "    print(\"Player1 %s Player2: %s Winner: %s\" % (\n",
    "        player1, player2, search_winner(player1, player2)))"
   ]
  },
  {
   "cell_type": "markdown",
   "metadata": {},
   "source": [
    "## Vamos a convertir los datos de papel, piedra o tijera de datos 0 y 1"
   ]
  },
  {
   "cell_type": "code",
   "execution_count": 40,
   "metadata": {},
   "outputs": [
    {
     "name": "stdout",
     "output_type": "stream",
     "text": [
      "[[1, 0, 0], [0, 1, 0], [0, 0, 1]]\n",
      "[[0, 0, 1], [1, 0, 0], [0, 1, 0]]\n"
     ]
    }
   ],
   "source": [
    "def str_to_list(option):\n",
    "    if option==\"piedra\":\n",
    "        res = [1, 0, 0]\n",
    "    elif option==\"tijeras\":\n",
    "        res = [0, 1, 0]\n",
    "    elif option==\"papel\":\n",
    "        res = [0, 0, 1]\n",
    "    \n",
    "    return res\n",
    "\n",
    "data_X = list(map(str_to_list, [\"piedra\", \"tijeras\", \"papel\"]))\n",
    "data_y = list(map(str_to_list, [\"papel\", \"piedra\", \"tijeras\"]))\n",
    "\n",
    "print(data_X)\n",
    "print(data_y)"
   ]
  },
  {
   "cell_type": "code",
   "execution_count": 42,
   "metadata": {},
   "outputs": [],
   "source": [
    "from sklearn.neural_network import MLPClassifier"
   ]
  },
  {
   "cell_type": "code",
   "execution_count": 44,
   "metadata": {},
   "outputs": [],
   "source": [
    "clf = MLPClassifier(verbose=False, warm_start=True)"
   ]
  },
  {
   "cell_type": "code",
   "execution_count": 45,
   "metadata": {
    "scrolled": true
   },
   "outputs": [
    {
     "name": "stdout",
     "output_type": "stream",
     "text": [
      "MLPClassifier(activation='relu', alpha=0.0001, batch_size='auto', beta_1=0.9,\n",
      "       beta_2=0.999, early_stopping=False, epsilon=1e-08,\n",
      "       hidden_layer_sizes=(100,), learning_rate='constant',\n",
      "       learning_rate_init=0.001, max_iter=200, momentum=0.9,\n",
      "       nesterovs_momentum=True, power_t=0.5, random_state=None,\n",
      "       shuffle=True, solver='adam', tol=0.0001, validation_fraction=0.1,\n",
      "       verbose=False, warm_start=True)\n"
     ]
    },
    {
     "name": "stderr",
     "output_type": "stream",
     "text": [
      "C:\\ProgramData\\Anaconda3\\lib\\site-packages\\sklearn\\neural_network\\multilayer_perceptron.py:564: ConvergenceWarning: Stochastic Optimizer: Maximum iterations (200) reached and the optimization hasn't converged yet.\n",
      "  % self.max_iter, ConvergenceWarning)\n"
     ]
    }
   ],
   "source": [
    "model = clf.fit([data_X[0]], [data_y[0]])\n",
    "print(model)"
   ]
  },
  {
   "cell_type": "code",
   "execution_count": 74,
   "metadata": {},
   "outputs": [],
   "source": [
    "def play_and_learn(iters=10, debug=False):\n",
    "    score = {\"win\": 0, \"loose\": 0}\n",
    "    \n",
    "    data_X = []\n",
    "    data_y = []\n",
    "    \n",
    "    for i in range(iters):\n",
    "        player1 = get_choice()\n",
    "        predict = model.predict_proba([str_to_list(player1)])[0]\n",
    "        \n",
    "        if predict[0] >= 0.95:\n",
    "            player2 = options[0]  \n",
    "        elif predict[1] >= 0.95:\n",
    "            player2 = options[1] \n",
    "        elif predict[2] >= 0.95:\n",
    "            player2 = options[2]\n",
    "        else:\n",
    "            player2 = get_choice()\n",
    "        \n",
    "        if debug==True:\n",
    "            print(\"Player1: %s Player2: %s Modelo: %s -->\" % (player1, predict, player2))\n",
    "        \n",
    "        winner = search_winner(player1, player2)\n",
    "        if debug==True:\n",
    "            print(\"Comprobamos: p1 VS p2: %s\" % winner)\n",
    "            \n",
    "        if winner==2:\n",
    "            data_X.append(str_to_list(player1))\n",
    "            data_y.append(str_to_list(player2))\n",
    "            \n",
    "            score[\"win\"]+=1\n",
    "        else:\n",
    "            score[\"loose\"]+=1\n",
    "        \n",
    "        return score, data_X, data_y\n",
    "        "
   ]
  },
  {
   "cell_type": "code",
   "execution_count": 75,
   "metadata": {},
   "outputs": [
    {
     "name": "stdout",
     "output_type": "stream",
     "text": [
      "Player1: piedra Player2: [0.02816629 0.02863843 0.9670201 ] Modelo: papel -->\n",
      "Comprobamos: p1 VS p2: 2\n",
      "[[1, 0, 0]]\n",
      "[[0, 0, 1]]\n",
      "score: {'win': 1, 'loose': 0} el porciento 100.0 %\n"
     ]
    }
   ],
   "source": [
    "score, data_X, data_y = play_and_learn(1, debug=True)\n",
    "print(data_X)\n",
    "print(data_y)\n",
    "print(\"score: %s el porciento %s %%\" % (score, (score[\"win\"]*100/(score[\"win\"]+score[\"loose\"]))))\n",
    "if len(data_X):\n",
    "    model = model.partial_fit(data_X, data_y)"
   ]
  },
  {
   "cell_type": "code",
   "execution_count": null,
   "metadata": {},
   "outputs": [],
   "source": []
  }
 ],
 "metadata": {
  "kernelspec": {
   "display_name": "Python 3",
   "language": "python",
   "name": "python3"
  },
  "language_info": {
   "codemirror_mode": {
    "name": "ipython",
    "version": 3
   },
   "file_extension": ".py",
   "mimetype": "text/x-python",
   "name": "python",
   "nbconvert_exporter": "python",
   "pygments_lexer": "ipython3",
   "version": "3.6.4"
  }
 },
 "nbformat": 4,
 "nbformat_minor": 2
}
