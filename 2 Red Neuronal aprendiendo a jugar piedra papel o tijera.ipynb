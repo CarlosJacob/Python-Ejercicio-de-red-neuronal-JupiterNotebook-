{
 "cells": [
  {
   "cell_type": "markdown",
   "metadata": {},
   "source": [
    "## Código de red neuronal aprendiendo a jugar a piedra papel o tijera.\n",
    "\n",
    "- difunde\n",
    "- coopera\n",
    "- aprende\n",
    "- vuelve\n",
    "\n",
    "-> simpre busca la solución mas sencilla."
   ]
  },
  {
   "cell_type": "code",
   "execution_count": 85,
   "metadata": {},
   "outputs": [],
   "source": [
    "options = [\"piedra\", \"tijeras\", \"papel\"]"
   ]
  },
  {
   "cell_type": "code",
   "execution_count": 117,
   "metadata": {},
   "outputs": [],
   "source": [
    "def search_winner(p1, p2):\n",
    "    if p1 == p2:\n",
    "        result = 0\n",
    "        \n",
    "    elif p1 == \"piedra\" and p2 == \"tijeras\":\n",
    "        result = 1\n",
    "    elif p1 == \"piedra\" and p2 == \"papel\":\n",
    "        result = 2\n",
    "    elif p1 == \"tijeras\" and p2 == \"piedra\":\n",
    "        result = 2\n",
    "    elif p1 == \"tijeras\" and p2 == \"papel\":\n",
    "        result = 1\n",
    "    elif p1 == \"papel\" and p2 == \"piedra\":\n",
    "        result = 1\n",
    "    elif p1 == \"papel\" and p2 == \"tijeras\":\n",
    "        result = 2\n",
    "        \n",
    "    return result    "
   ]
  },
  {
   "cell_type": "code",
   "execution_count": 87,
   "metadata": {},
   "outputs": [
    {
     "data": {
      "text/plain": [
       "2"
      ]
     },
     "execution_count": 87,
     "metadata": {},
     "output_type": "execute_result"
    }
   ],
   "source": [
    "search_winner(\"papel\", \"tijeras\")"
   ]
  },
  {
   "cell_type": "code",
   "execution_count": 88,
   "metadata": {},
   "outputs": [
    {
     "name": "stdout",
     "output_type": "stream",
     "text": [
      "['piedra', 'piedra', 0]\n",
      "Player1 piedra Player2: piedra Winner: 0 Validation 0\n",
      "['piedra', 'tijeras', 1]\n",
      "Player1 piedra Player2: tijeras Winner: 1 Validation 1\n",
      "['piedra', 'papel', 2]\n",
      "Player1 piedra Player2: papel Winner: 2 Validation 2\n"
     ]
    }
   ],
   "source": [
    "test = [\n",
    "    [\"piedra\", \"piedra\", 0 ],\n",
    "    [\"piedra\", \"tijeras\", 1],\n",
    "    [\"piedra\", \"papel\", 2]\n",
    "]\n",
    "\n",
    "for partida in test:\n",
    "    print(partida)\n",
    "    print(\"Player1 %s Player2: %s Winner: %s Validation %s\" % (\n",
    "        partida[0], partida[1], search_winner(partida[0], partida[1]), partida[2]\n",
    "    ))"
   ]
  },
  {
   "cell_type": "code",
   "execution_count": 89,
   "metadata": {},
   "outputs": [],
   "source": [
    "from random import choice\n",
    "def get_choice():\n",
    "    return choice(options)"
   ]
  },
  {
   "cell_type": "code",
   "execution_count": 120,
   "metadata": {},
   "outputs": [
    {
     "name": "stdout",
     "output_type": "stream",
     "text": [
      "Player1 : papel\n",
      "Player2 : papel\n",
      "Player1 papel Player2: papel Winner: 0\n",
      "Player1 : papel\n",
      "Player2 : tijeras\n",
      "Player1 papel Player2: tijeras Winner: 2\n",
      "Player1 : piedra\n",
      "Player2 : tijeras\n",
      "Player1 piedra Player2: tijeras Winner: 1\n",
      "Player1 : papel\n",
      "Player2 : papel\n",
      "Player1 papel Player2: papel Winner: 0\n",
      "Player1 : piedra\n",
      "Player2 : papel\n",
      "Player1 piedra Player2: papel Winner: 2\n",
      "Player1 : papel\n",
      "Player2 : tijeras\n",
      "Player1 papel Player2: tijeras Winner: 2\n",
      "Player1 : tijeras\n",
      "Player2 : tijeras\n",
      "Player1 tijeras Player2: tijeras Winner: 0\n",
      "Player1 : tijeras\n",
      "Player2 : piedra\n",
      "Player1 tijeras Player2: piedra Winner: 2\n",
      "Player1 : piedra\n",
      "Player2 : tijeras\n",
      "Player1 piedra Player2: tijeras Winner: 1\n",
      "Player1 : papel\n",
      "Player2 : tijeras\n",
      "Player1 papel Player2: tijeras Winner: 2\n"
     ]
    }
   ],
   "source": [
    "# es posible que falle esta parte ya que no buscamos todas las opciónes posibles\n",
    "for i in range(10):\n",
    "    player1 = get_choice()\n",
    "    player2 = get_choice()\n",
    "    print(\"Player1 %s Player2: %s Winner: %s\" % (\n",
    "        player1, player2, search_winner(player1, player2)))"
   ]
  },
  {
   "cell_type": "markdown",
   "metadata": {},
   "source": [
    "## Vamos a convertir los datos de papel, piedra o tijera de datos 0 y 1"
   ]
  },
  {
   "cell_type": "code",
   "execution_count": 94,
   "metadata": {},
   "outputs": [
    {
     "name": "stdout",
     "output_type": "stream",
     "text": [
      "[[1, 0, 0], [0, 1, 0], [0, 0, 1]]\n",
      "[[0, 0, 1], [1, 0, 0], [0, 1, 0]]\n"
     ]
    }
   ],
   "source": [
    "def str_to_list(option):\n",
    "    if option==\"piedra\":\n",
    "        res = [1, 0, 0]\n",
    "    elif option==\"tijeras\":\n",
    "        res = [0, 1, 0]\n",
    "    elif option==\"papel\":\n",
    "        res = [0, 0, 1]\n",
    "    \n",
    "    return res\n",
    "\n",
    "data_X = list(map(str_to_list, [\"piedra\", \"tijeras\", \"papel\"]))\n",
    "data_y = list(map(str_to_list, [\"papel\", \"piedra\", \"tijeras\"]))\n",
    "\n",
    "print(data_X)\n",
    "print(data_y)"
   ]
  },
  {
   "cell_type": "code",
   "execution_count": 95,
   "metadata": {},
   "outputs": [],
   "source": [
    "from sklearn.neural_network import MLPClassifier"
   ]
  },
  {
   "cell_type": "code",
   "execution_count": 145,
   "metadata": {},
   "outputs": [],
   "source": [
    "clf = MLPClassifier(verbose=False, warm_start=True)"
   ]
  },
  {
   "cell_type": "code",
   "execution_count": 146,
   "metadata": {
    "scrolled": true
   },
   "outputs": [
    {
     "name": "stdout",
     "output_type": "stream",
     "text": [
      "MLPClassifier(activation='relu', alpha=0.0001, batch_size='auto', beta_1=0.9,\n",
      "       beta_2=0.999, early_stopping=False, epsilon=1e-08,\n",
      "       hidden_layer_sizes=(100,), learning_rate='constant',\n",
      "       learning_rate_init=0.001, max_iter=200, momentum=0.9,\n",
      "       nesterovs_momentum=True, power_t=0.5, random_state=None,\n",
      "       shuffle=True, solver='adam', tol=0.0001, validation_fraction=0.1,\n",
      "       verbose=False, warm_start=True)\n"
     ]
    },
    {
     "name": "stderr",
     "output_type": "stream",
     "text": [
      "C:\\ProgramData\\Anaconda3\\lib\\site-packages\\sklearn\\neural_network\\multilayer_perceptron.py:564: ConvergenceWarning: Stochastic Optimizer: Maximum iterations (200) reached and the optimization hasn't converged yet.\n",
      "  % self.max_iter, ConvergenceWarning)\n"
     ]
    }
   ],
   "source": [
    "model = clf.fit([data_X[0]], [data_y[0]])\n",
    "print(model)"
   ]
  },
  {
   "cell_type": "code",
   "execution_count": 147,
   "metadata": {},
   "outputs": [],
   "source": [
    "def play_and_learn(iters=10, debug=False):\n",
    "    score = {\"win\": 0, \"loose\": 0}\n",
    "    \n",
    "    data_X = []\n",
    "    data_y = []\n",
    "    \n",
    "    for i in range(iters):\n",
    "        player1 = get_choice()\n",
    "        predict = model.predict_proba([str_to_list(player1)])[0]\n",
    "\n",
    "        if predict[0] >= 0.95:\n",
    "            player2 = options[0]  \n",
    "        elif predict[1] >= 0.95:\n",
    "            player2 = options[1] \n",
    "        elif predict[2] >= 0.95:\n",
    "            player2 = options[2]\n",
    "        else:\n",
    "            player2 = get_choice()\n",
    "        \n",
    "        if debug==True:\n",
    "            print(\"Player1: %s Player2: %s Modelo: %s -->\" % (player1, predict, player2))\n",
    "        \n",
    "        winner = search_winner(player1, player2)\n",
    "\n",
    "        if debug==True:\n",
    "            print(\"Comprobamos: p1 VS p2: %s\" % winner)\n",
    "            \n",
    "        if winner==2:\n",
    "            data_X.append(str_to_list(player1))\n",
    "            data_y.append(str_to_list(player2))\n",
    "            score[\"win\"]= score[\"win\"] + 1\n",
    "        else:\n",
    "            score[\"loose\"] = score[\"loose\"] + 1\n",
    "        \n",
    "    return score, data_X, data_y\n",
    "        "
   ]
  },
  {
   "cell_type": "code",
   "execution_count": 148,
   "metadata": {},
   "outputs": [
    {
     "name": "stdout",
     "output_type": "stream",
     "text": [
      "Player1: tijeras Player2: [0.97996714 0.03019889 0.03392681] Modelo: piedra -->\n",
      "Comprobamos: p1 VS p2: 2\n",
      "[[0, 1, 0]]\n",
      "[[1, 0, 0]]\n",
      "score: {'win': 1, 'loose': 0} el porciento 100.0 %\n"
     ]
    }
   ],
   "source": [
    "score, data_X, data_y = play_and_learn(1, debug=True)\n",
    "print(data_X)\n",
    "print(data_y)\n",
    "print(\"score: %s el porciento %s %%\" % (score, (score[\"win\"]*100/(score[\"win\"]+score[\"loose\"]))))\n",
    "if len(data_X):\n",
    "    model = model.partial_fit(data_X, data_y)"
   ]
  },
  {
   "cell_type": "code",
   "execution_count": 149,
   "metadata": {},
   "outputs": [
    {
     "name": "stdout",
     "output_type": "stream",
     "text": [
      "Iter: 1 - score: {'win': 522, 'loose': 478} 52.2 %\n",
      "Iter: 2 - score: {'win': 567, 'loose': 433} 56.7 %\n",
      "Iter: 3 - score: {'win': 551, 'loose': 449} 55.1 %\n",
      "Iter: 4 - score: {'win': 551, 'loose': 449} 55.1 %\n",
      "Iter: 5 - score: {'win': 548, 'loose': 452} 54.8 %\n",
      "Iter: 6 - score: {'win': 551, 'loose': 449} 55.1 %\n",
      "Iter: 7 - score: {'win': 531, 'loose': 469} 53.1 %\n",
      "Iter: 8 - score: {'win': 565, 'loose': 435} 56.5 %\n",
      "Iter: 9 - score: {'win': 562, 'loose': 438} 56.2 %\n",
      "Iter: 10 - score: {'win': 557, 'loose': 443} 55.7 %\n",
      "Iter: 11 - score: {'win': 555, 'loose': 445} 55.5 %\n",
      "Iter: 12 - score: {'win': 559, 'loose': 441} 55.9 %\n",
      "Iter: 13 - score: {'win': 354, 'loose': 646} 35.4 %\n",
      "Iter: 14 - score: {'win': 319, 'loose': 681} 31.9 %\n",
      "Iter: 15 - score: {'win': 346, 'loose': 654} 34.6 %\n",
      "Iter: 16 - score: {'win': 340, 'loose': 660} 34.0 %\n",
      "Iter: 17 - score: {'win': 322, 'loose': 678} 32.2 %\n",
      "Iter: 18 - score: {'win': 358, 'loose': 642} 35.8 %\n",
      "Iter: 19 - score: {'win': 305, 'loose': 695} 30.5 %\n",
      "Iter: 20 - score: {'win': 328, 'loose': 672} 32.8 %\n",
      "Iter: 21 - score: {'win': 324, 'loose': 676} 32.4 %\n",
      "Iter: 22 - score: {'win': 335, 'loose': 665} 33.5 %\n",
      "Iter: 23 - score: {'win': 318, 'loose': 682} 31.8 %\n",
      "Iter: 24 - score: {'win': 340, 'loose': 660} 34.0 %\n",
      "Iter: 25 - score: {'win': 353, 'loose': 647} 35.3 %\n",
      "Iter: 26 - score: {'win': 334, 'loose': 666} 33.4 %\n",
      "Iter: 27 - score: {'win': 344, 'loose': 656} 34.4 %\n",
      "Iter: 28 - score: {'win': 342, 'loose': 658} 34.2 %\n",
      "Iter: 29 - score: {'win': 326, 'loose': 674} 32.6 %\n",
      "Iter: 30 - score: {'win': 325, 'loose': 675} 32.5 %\n",
      "Iter: 31 - score: {'win': 314, 'loose': 686} 31.4 %\n",
      "Iter: 32 - score: {'win': 319, 'loose': 681} 31.9 %\n",
      "Iter: 33 - score: {'win': 313, 'loose': 687} 31.3 %\n",
      "Iter: 34 - score: {'win': 342, 'loose': 658} 34.2 %\n",
      "Iter: 35 - score: {'win': 326, 'loose': 674} 32.6 %\n",
      "Iter: 36 - score: {'win': 361, 'loose': 639} 36.1 %\n",
      "Iter: 37 - score: {'win': 337, 'loose': 663} 33.7 %\n",
      "Iter: 38 - score: {'win': 346, 'loose': 654} 34.6 %\n",
      "Iter: 39 - score: {'win': 338, 'loose': 662} 33.8 %\n",
      "Iter: 40 - score: {'win': 348, 'loose': 652} 34.8 %\n",
      "Iter: 41 - score: {'win': 333, 'loose': 667} 33.3 %\n",
      "Iter: 42 - score: {'win': 322, 'loose': 678} 32.2 %\n",
      "Iter: 43 - score: {'win': 324, 'loose': 676} 32.4 %\n",
      "Iter: 44 - score: {'win': 342, 'loose': 658} 34.2 %\n",
      "Iter: 45 - score: {'win': 310, 'loose': 690} 31.0 %\n",
      "Iter: 46 - score: {'win': 331, 'loose': 669} 33.1 %\n",
      "Iter: 47 - score: {'win': 340, 'loose': 660} 34.0 %\n",
      "Iter: 48 - score: {'win': 336, 'loose': 664} 33.6 %\n",
      "Iter: 49 - score: {'win': 312, 'loose': 688} 31.2 %\n",
      "Iter: 50 - score: {'win': 358, 'loose': 642} 35.8 %\n",
      "Iter: 51 - score: {'win': 341, 'loose': 659} 34.1 %\n",
      "Iter: 52 - score: {'win': 326, 'loose': 674} 32.6 %\n",
      "Iter: 53 - score: {'win': 308, 'loose': 692} 30.8 %\n",
      "Iter: 54 - score: {'win': 345, 'loose': 655} 34.5 %\n",
      "Iter: 55 - score: {'win': 335, 'loose': 665} 33.5 %\n",
      "Iter: 56 - score: {'win': 345, 'loose': 655} 34.5 %\n",
      "Iter: 57 - score: {'win': 369, 'loose': 631} 36.9 %\n",
      "Iter: 58 - score: {'win': 327, 'loose': 673} 32.7 %\n",
      "Iter: 59 - score: {'win': 332, 'loose': 668} 33.2 %\n",
      "Iter: 60 - score: {'win': 347, 'loose': 653} 34.7 %\n",
      "Iter: 61 - score: {'win': 325, 'loose': 675} 32.5 %\n",
      "Iter: 62 - score: {'win': 324, 'loose': 676} 32.4 %\n",
      "Iter: 63 - score: {'win': 329, 'loose': 671} 32.9 %\n",
      "Iter: 64 - score: {'win': 331, 'loose': 669} 33.1 %\n",
      "Iter: 65 - score: {'win': 350, 'loose': 650} 35.0 %\n",
      "Iter: 66 - score: {'win': 349, 'loose': 651} 34.9 %\n",
      "Iter: 67 - score: {'win': 325, 'loose': 675} 32.5 %\n",
      "Iter: 68 - score: {'win': 331, 'loose': 669} 33.1 %\n",
      "Iter: 69 - score: {'win': 330, 'loose': 670} 33.0 %\n",
      "Iter: 70 - score: {'win': 349, 'loose': 651} 34.9 %\n",
      "Iter: 71 - score: {'win': 320, 'loose': 680} 32.0 %\n",
      "Iter: 72 - score: {'win': 321, 'loose': 679} 32.1 %\n",
      "Iter: 73 - score: {'win': 316, 'loose': 684} 31.6 %\n",
      "Iter: 74 - score: {'win': 322, 'loose': 678} 32.2 %\n",
      "Iter: 75 - score: {'win': 350, 'loose': 650} 35.0 %\n",
      "Iter: 76 - score: {'win': 328, 'loose': 672} 32.8 %\n",
      "Iter: 77 - score: {'win': 315, 'loose': 685} 31.5 %\n",
      "Iter: 78 - score: {'win': 312, 'loose': 688} 31.2 %\n",
      "Iter: 79 - score: {'win': 347, 'loose': 653} 34.7 %\n",
      "Iter: 80 - score: {'win': 346, 'loose': 654} 34.6 %\n",
      "Iter: 81 - score: {'win': 333, 'loose': 667} 33.3 %\n",
      "Iter: 82 - score: {'win': 325, 'loose': 675} 32.5 %\n",
      "Iter: 83 - score: {'win': 346, 'loose': 654} 34.6 %\n",
      "Iter: 84 - score: {'win': 311, 'loose': 689} 31.1 %\n",
      "Iter: 85 - score: {'win': 344, 'loose': 656} 34.4 %\n",
      "Iter: 86 - score: {'win': 328, 'loose': 672} 32.8 %\n",
      "Iter: 87 - score: {'win': 347, 'loose': 653} 34.7 %\n",
      "Iter: 88 - score: {'win': 337, 'loose': 663} 33.7 %\n",
      "Iter: 89 - score: {'win': 384, 'loose': 616} 38.4 %\n",
      "Iter: 90 - score: {'win': 319, 'loose': 681} 31.9 %\n",
      "Iter: 91 - score: {'win': 348, 'loose': 652} 34.8 %\n",
      "Iter: 92 - score: {'win': 355, 'loose': 645} 35.5 %\n",
      "Iter: 93 - score: {'win': 344, 'loose': 656} 34.4 %\n",
      "Iter: 94 - score: {'win': 330, 'loose': 670} 33.0 %\n",
      "Iter: 95 - score: {'win': 330, 'loose': 670} 33.0 %\n",
      "Iter: 96 - score: {'win': 360, 'loose': 640} 36.0 %\n",
      "Iter: 97 - score: {'win': 311, 'loose': 689} 31.1 %\n",
      "Iter: 98 - score: {'win': 330, 'loose': 670} 33.0 %\n",
      "Iter: 99 - score: {'win': 317, 'loose': 683} 31.7 %\n",
      "Iter: 100 - score: {'win': 346, 'loose': 654} 34.6 %\n",
      "Iter: 101 - score: {'win': 330, 'loose': 670} 33.0 %\n",
      "Iter: 102 - score: {'win': 320, 'loose': 680} 32.0 %\n",
      "Iter: 103 - score: {'win': 338, 'loose': 662} 33.8 %\n",
      "Iter: 104 - score: {'win': 314, 'loose': 686} 31.4 %\n",
      "Iter: 105 - score: {'win': 299, 'loose': 701} 29.9 %\n",
      "Iter: 106 - score: {'win': 350, 'loose': 650} 35.0 %\n",
      "Iter: 107 - score: {'win': 347, 'loose': 653} 34.7 %\n",
      "Iter: 108 - score: {'win': 323, 'loose': 677} 32.3 %\n",
      "Iter: 109 - score: {'win': 366, 'loose': 634} 36.6 %\n",
      "Iter: 110 - score: {'win': 325, 'loose': 675} 32.5 %\n",
      "Iter: 111 - score: {'win': 352, 'loose': 648} 35.2 %\n",
      "Iter: 112 - score: {'win': 348, 'loose': 652} 34.8 %\n",
      "Iter: 113 - score: {'win': 294, 'loose': 706} 29.4 %\n",
      "Iter: 114 - score: {'win': 571, 'loose': 429} 57.1 %\n",
      "Iter: 115 - score: {'win': 534, 'loose': 466} 53.4 %\n",
      "Iter: 116 - score: {'win': 544, 'loose': 456} 54.4 %\n",
      "Iter: 117 - score: {'win': 573, 'loose': 427} 57.3 %\n",
      "Iter: 118 - score: {'win': 554, 'loose': 446} 55.4 %\n",
      "Iter: 119 - score: {'win': 553, 'loose': 447} 55.3 %\n",
      "Iter: 120 - score: {'win': 550, 'loose': 450} 55.0 %\n",
      "Iter: 121 - score: {'win': 560, 'loose': 440} 56.0 %\n",
      "Iter: 122 - score: {'win': 544, 'loose': 456} 54.4 %\n",
      "Iter: 123 - score: {'win': 538, 'loose': 462} 53.8 %\n",
      "Iter: 124 - score: {'win': 544, 'loose': 456} 54.4 %\n",
      "Iter: 125 - score: {'win': 576, 'loose': 424} 57.6 %\n",
      "Iter: 126 - score: {'win': 555, 'loose': 445} 55.5 %\n",
      "Iter: 127 - score: {'win': 585, 'loose': 415} 58.5 %\n",
      "Iter: 128 - score: {'win': 552, 'loose': 448} 55.2 %\n",
      "Iter: 129 - score: {'win': 559, 'loose': 441} 55.9 %\n",
      "Iter: 130 - score: {'win': 566, 'loose': 434} 56.6 %\n",
      "Iter: 131 - score: {'win': 533, 'loose': 467} 53.3 %\n",
      "Iter: 132 - score: {'win': 550, 'loose': 450} 55.0 %\n",
      "Iter: 133 - score: {'win': 541, 'loose': 459} 54.1 %\n",
      "Iter: 134 - score: {'win': 553, 'loose': 447} 55.3 %\n",
      "Iter: 135 - score: {'win': 563, 'loose': 437} 56.3 %\n",
      "Iter: 136 - score: {'win': 561, 'loose': 439} 56.1 %\n",
      "Iter: 137 - score: {'win': 567, 'loose': 433} 56.7 %\n",
      "Iter: 138 - score: {'win': 557, 'loose': 443} 55.7 %\n",
      "Iter: 139 - score: {'win': 561, 'loose': 439} 56.1 %\n",
      "Iter: 140 - score: {'win': 541, 'loose': 459} 54.1 %\n",
      "Iter: 141 - score: {'win': 562, 'loose': 438} 56.2 %\n",
      "Iter: 142 - score: {'win': 570, 'loose': 430} 57.0 %\n",
      "Iter: 143 - score: {'win': 555, 'loose': 445} 55.5 %\n",
      "Iter: 144 - score: {'win': 549, 'loose': 451} 54.9 %\n",
      "Iter: 145 - score: {'win': 544, 'loose': 456} 54.4 %\n",
      "Iter: 146 - score: {'win': 546, 'loose': 454} 54.6 %\n",
      "Iter: 147 - score: {'win': 570, 'loose': 430} 57.0 %\n",
      "Iter: 148 - score: {'win': 571, 'loose': 429} 57.1 %\n",
      "Iter: 149 - score: {'win': 535, 'loose': 465} 53.5 %\n",
      "Iter: 150 - score: {'win': 576, 'loose': 424} 57.6 %\n",
      "Iter: 151 - score: {'win': 578, 'loose': 422} 57.8 %\n",
      "Iter: 152 - score: {'win': 591, 'loose': 409} 59.1 %\n",
      "Iter: 153 - score: {'win': 578, 'loose': 422} 57.8 %\n",
      "Iter: 154 - score: {'win': 565, 'loose': 435} 56.5 %\n",
      "Iter: 155 - score: {'win': 547, 'loose': 453} 54.7 %\n",
      "Iter: 156 - score: {'win': 541, 'loose': 459} 54.1 %\n",
      "Iter: 157 - score: {'win': 550, 'loose': 450} 55.0 %\n",
      "Iter: 158 - score: {'win': 549, 'loose': 451} 54.9 %\n"
     ]
    },
    {
     "name": "stdout",
     "output_type": "stream",
     "text": [
      "Iter: 159 - score: {'win': 523, 'loose': 477} 52.3 %\n",
      "Iter: 160 - score: {'win': 568, 'loose': 432} 56.8 %\n",
      "Iter: 161 - score: {'win': 549, 'loose': 451} 54.9 %\n",
      "Iter: 162 - score: {'win': 555, 'loose': 445} 55.5 %\n",
      "Iter: 163 - score: {'win': 586, 'loose': 414} 58.6 %\n",
      "Iter: 164 - score: {'win': 578, 'loose': 422} 57.8 %\n",
      "Iter: 165 - score: {'win': 557, 'loose': 443} 55.7 %\n",
      "Iter: 166 - score: {'win': 556, 'loose': 444} 55.6 %\n",
      "Iter: 167 - score: {'win': 552, 'loose': 448} 55.2 %\n",
      "Iter: 168 - score: {'win': 544, 'loose': 456} 54.4 %\n",
      "Iter: 169 - score: {'win': 565, 'loose': 435} 56.5 %\n",
      "Iter: 170 - score: {'win': 555, 'loose': 445} 55.5 %\n",
      "Iter: 171 - score: {'win': 554, 'loose': 446} 55.4 %\n",
      "Iter: 172 - score: {'win': 556, 'loose': 444} 55.6 %\n",
      "Iter: 173 - score: {'win': 544, 'loose': 456} 54.4 %\n",
      "Iter: 174 - score: {'win': 558, 'loose': 442} 55.8 %\n",
      "Iter: 175 - score: {'win': 553, 'loose': 447} 55.3 %\n",
      "Iter: 176 - score: {'win': 752, 'loose': 248} 75.2 %\n",
      "Iter: 177 - score: {'win': 1000, 'loose': 0} 100.0 %\n",
      "Iter: 178 - score: {'win': 1000, 'loose': 0} 100.0 %\n",
      "Iter: 179 - score: {'win': 1000, 'loose': 0} 100.0 %\n",
      "Iter: 180 - score: {'win': 1000, 'loose': 0} 100.0 %\n",
      "Iter: 181 - score: {'win': 1000, 'loose': 0} 100.0 %\n",
      "Iter: 182 - score: {'win': 1000, 'loose': 0} 100.0 %\n",
      "Iter: 183 - score: {'win': 1000, 'loose': 0} 100.0 %\n",
      "Iter: 184 - score: {'win': 1000, 'loose': 0} 100.0 %\n",
      "Iter: 185 - score: {'win': 1000, 'loose': 0} 100.0 %\n"
     ]
    }
   ],
   "source": [
    "i = 0\n",
    "historico_pct = []\n",
    "while True:\n",
    "    i+=1\n",
    "    score, data_X, data_y = play_and_learn(iters=1000, debug=False)\n",
    "    pct = (score[\"win\"]*100/(score[\"win\"]+score[\"loose\"]))\n",
    "    historico_pct.append(pct)\n",
    "    print(\"Iter: %s - score: %s %s %%\" % (i, score, pct))\n",
    "    \n",
    "    if len(data_X):\n",
    "        model = model.partial_fit(data_X, data_y)\n",
    "    \n",
    "    if sum(historico_pct[-9:])==900:\n",
    "        break\n"
   ]
  },
  {
   "cell_type": "code",
   "execution_count": null,
   "metadata": {},
   "outputs": [],
   "source": []
  }
 ],
 "metadata": {
  "kernelspec": {
   "display_name": "Python 3",
   "language": "python",
   "name": "python3"
  },
  "language_info": {
   "codemirror_mode": {
    "name": "ipython",
    "version": 3
   },
   "file_extension": ".py",
   "mimetype": "text/x-python",
   "name": "python",
   "nbconvert_exporter": "python",
   "pygments_lexer": "ipython3",
   "version": "3.6.4"
  }
 },
 "nbformat": 4,
 "nbformat_minor": 2
}
